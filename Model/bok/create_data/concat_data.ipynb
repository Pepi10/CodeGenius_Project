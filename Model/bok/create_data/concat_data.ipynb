{
 "cells": [
  {
   "cell_type": "code",
   "execution_count": null,
   "metadata": {},
   "outputs": [],
   "source": [
    "import pandas as pd\n",
    "\n",
    "# 경로에 있는 csv 파일을 불러와서 concat하는 함수\n",
    "def concat_csv_files(base_path, num_files):\n",
    "    # 최종 데이터를 저장할 데이터 프레임 초기화\n",
    "    final_df = pd.DataFrame(columns=['Q', 'A', 'K', 'E', 'U'])\n",
    "    \n",
    "    for i in range(1, num_files + 1):\n",
    "        file_path = f'{base_path}/prompt{i}_data.csv'\n",
    "        df = pd.read_csv(file_path)\n",
    "        final_df = pd.concat([final_df, df], ignore_index=True)\n",
    "        \n",
    "    return final_df"
   ]
  },
  {
   "cell_type": "code",
   "execution_count": null,
   "metadata": {},
   "outputs": [],
   "source": [
    "# data1 디렉터리 합치기\n",
    "# 파일 불러올 경로 설정\n",
    "path1 = 'testdata/data1'\n",
    "\n",
    "# concat\n",
    "df1 = concat_csv_files(path1, num_files=10)\n",
    "\n",
    "# excel로 열어서 데이터 검증\n",
    "df1.to_excel('/rawdata/df1.xlsx')"
   ]
  },
  {
   "cell_type": "code",
   "execution_count": null,
   "metadata": {},
   "outputs": [],
   "source": [
    "# data2\n",
    "path1 = 'testdata/data2'\n",
    "\n",
    "# concat\n",
    "df1 = concat_csv_files(path1, num_files=10)\n",
    "\n",
    "# excel로 열어서 데이터 검증\n",
    "df1.to_excel('/rawdata/df2.xlsx')"
   ]
  },
  {
   "cell_type": "code",
   "execution_count": null,
   "metadata": {},
   "outputs": [],
   "source": [
    "# data3\n",
    "path2 = 'testdata/data3'\n",
    "\n",
    "df2 = concat_csv_files(path2, num_files=10)\n",
    "\n",
    "df2.to_excel('rawdata/df3.xlsx')"
   ]
  },
  {
   "cell_type": "code",
   "execution_count": null,
   "metadata": {},
   "outputs": [],
   "source": [
    "# 검증된 데이터 불러오기\n",
    "df1_valid = pd.read_excel('./rawdata/df1.xlsx', index_col=0)\n",
    "df2_valid = pd.read_excel('./rawdata/df2.xlsx', index_col=0)\n",
    "df3_valid = pd.read_excel('./rawdata/df3.xlsx', index_col=0)"
   ]
  },
  {
   "cell_type": "code",
   "execution_count": null,
   "metadata": {},
   "outputs": [],
   "source": [
    "# 각 데이터 개수 확인\n",
    "len(df1_valid), len(df2_valid), len(df3_valid)"
   ]
  },
  {
   "cell_type": "code",
   "execution_count": null,
   "metadata": {},
   "outputs": [],
   "source": [
    "# concat\n",
    "con1 = pd.concat([df1_valid, df2_valid])\n",
    "con2 = pd.concat([con1, df3_valid])"
   ]
  },
  {
   "cell_type": "code",
   "execution_count": null,
   "metadata": {},
   "outputs": [],
   "source": [
    "# 최종본 저장\n",
    "con2.to_csv('enddata/240530_data.csv')"
   ]
  }
 ],
 "metadata": {
  "kernelspec": {
   "display_name": "Python 3",
   "language": "python",
   "name": "python3"
  },
  "language_info": {
   "name": "python",
   "version": "3.10.12"
  }
 },
 "nbformat": 4,
 "nbformat_minor": 2
}
