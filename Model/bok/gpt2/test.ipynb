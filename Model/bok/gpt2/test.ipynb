{
 "cells": [
  {
   "cell_type": "code",
   "execution_count": null,
   "metadata": {},
   "outputs": [],
   "source": [
    "import params, prepare\n",
    "from model_loader import ModelLoader\n",
    "from initial_freezing import InitialFreezing\n",
    "from selective_freezing import SelectiveFreezing\n",
    "from model_trainer import ModelTrainer\n",
    "from transformers import TrainingArguments"
   ]
  },
  {
   "cell_type": "code",
   "execution_count": null,
   "metadata": {},
   "outputs": [],
   "source": [
    "model_name = 'skt/kogpt2-base-v2'  # 사용할 모델 이름\n",
    "data_path = './data/rawdata.csv'  # 데이터 파일 경로"
   ]
  },
  {
   "cell_type": "code",
   "execution_count": null,
   "metadata": {},
   "outputs": [],
   "source": [
    "# 모델 및 토크나이저 로드\n",
    "model_loader = ModelLoader(model_name)\n",
    "model, tokenizer = model_loader.load()"
   ]
  },
  {
   "cell_type": "code",
   "execution_count": null,
   "metadata": {},
   "outputs": [],
   "source": [
    "df = prepare.load_data(data_path)"
   ]
  },
  {
   "cell_type": "code",
   "execution_count": null,
   "metadata": {},
   "outputs": [],
   "source": [
    "train_df, test_df = prepare.split_data(df, test_size=0.2)  # 데이터를 학습 및 평가 데이터로 분리"
   ]
  },
  {
   "cell_type": "code",
   "execution_count": null,
   "metadata": {},
   "outputs": [],
   "source": [
    "# 데이터 로드 및 준비\n",
    "train_dataset = prepare.prepare_dataset(train_df, tokenizer)  # 학습 데이터셋 준비\n",
    "test_dataset = prepare.prepare_dataset(test_df, tokenizer)  # 평가 데이터셋 준비"
   ]
  },
  {
   "cell_type": "code",
   "execution_count": null,
   "metadata": {},
   "outputs": [],
   "source": [
    "# 초기 프리징 및 점진적 언프리징\n",
    "initial_freezing = InitialFreezing(model, num_unfreeze_layers=2)  # 초기 프리징 적용"
   ]
  },
  {
   "cell_type": "code",
   "execution_count": null,
   "metadata": {},
   "outputs": [],
   "source": [
    "# 학습 파라미터 설정\n",
    "training_args = TrainingArguments(\n",
    "    output_dir=params.OUTPUT_DIR,  # 모델 출력 디렉토리\n",
    "    num_train_epochs=params.NUM_TRAIN_EPOCHS,  # 학습 에포크 수\n",
    "    per_device_train_batch_size=params.BATCH_SIZE,  # 학습 배치 크기\n",
    "    per_device_eval_batch_size=params.BATCH_SIZE,  # 평가 배치 크기\n",
    "    learning_rate=params.LEARNING_RATE,  # 학습률\n",
    "    logging_dir=params.LOGGING_DIR,  # 로깅 디렉토리\n",
    "    logging_steps=params.LOGGING_STEPS,  # 로깅 빈도\n",
    "    save_steps=params.SAVE_STEPS,  # 모델 저장 빈도\n",
    "    evaluation_strategy=params.EVALUATION_STRATEGY,  # 평가 전략\n",
    "    eval_steps=params.EVAL_STEPS,  # 평가 빈도\n",
    "    save_total_limit=params.SAVE_TOTAL_LIMIT,  # 저장할 체크포인트의 최대 수\n",
    ")"
   ]
  },
  {
   "cell_type": "code",
   "execution_count": null,
   "metadata": {},
   "outputs": [],
   "source": [
    "# 모델 학습 및 검증\n",
    "trainer = ModelTrainer(model, tokenizer)\n",
    "trainer.set_training_args()  # 학습 인자 설정"
   ]
  },
  {
   "cell_type": "code",
   "execution_count": null,
   "metadata": {},
   "outputs": [],
   "source": [
    "# 모델 학습\n",
    "trainer.train(train_dataset, test_dataset)\n",
    "trainer.save_model(params.OUTPUT_DIR)"
   ]
  },
  {
   "cell_type": "code",
   "execution_count": null,
   "metadata": {},
   "outputs": [],
   "source": [
    "# 시각화\n",
    "trainer.plot_metrics()"
   ]
  },
  {
   "cell_type": "markdown",
   "metadata": {},
   "source": [
    "# initial_freezing"
   ]
  },
  {
   "cell_type": "code",
   "execution_count": 43,
   "metadata": {},
   "outputs": [],
   "source": [
    "import torch\n",
    "import torch.distributed as dist\n",
    "import torch.multiprocessing as mp\n",
    "from torch.nn.parallel import DistributedDataParallel as DDP"
   ]
  },
  {
   "cell_type": "code",
   "execution_count": 42,
   "metadata": {},
   "outputs": [
    {
     "data": {
      "text/plain": [
       "<function torch.distributed.distributed_c10d.init_process_group(backend: Optional[str] = None, init_method: Optional[str] = None, timeout: Optional[datetime.timedelta] = None, world_size: int = -1, rank: int = -1, store: Optional[torch.distributed.distributed_c10d.Store] = None, group_name: str = '', pg_options: Optional[Any] = None, device_id: Optional[torch.device] = None) -> None>"
      ]
     },
     "execution_count": 42,
     "metadata": {},
     "output_type": "execute_result"
    }
   ],
   "source": [
    "dist.init_process_group(backend='nccl', init_method='tcp://172.28.32.1:17675',world_size=)"
   ]
  },
  {
   "cell_type": "code",
   "execution_count": 46,
   "metadata": {},
   "outputs": [
    {
     "data": {
      "text/plain": [
       "<function __main__.init_for_distributed(rank, opts)>"
      ]
     },
     "execution_count": 46,
     "metadata": {},
     "output_type": "execute_result"
    }
   ],
   "source": [
    "init_for_distributed"
   ]
  },
  {
   "cell_type": "code",
   "execution_count": 45,
   "metadata": {},
   "outputs": [],
   "source": [
    "def init_for_distributed(rank, opts):\n",
    "\n",
    "    # 1. setting for distributed training\n",
    "    opts.rank = rank\n",
    "    opts.num_workers = len(opts.gpu_ids) * 4\n",
    "    opts.world_size = len(opts.gpu_ids)\n",
    "    local_gpu_id = int(opts.gpu_ids[opts.rank])\n",
    "    torch.cuda.set_device(local_gpu_id)\n",
    "    if opts.rank is not None:\n",
    "        print(\"Use GPU: {} for training\".format(local_gpu_id))\n",
    "\n",
    "    # 2. init_process_group\n",
    "    dist.init_process_group(backend='nccl',\n",
    "                            init_method='tcp://127.0.0.1:23456',\n",
    "                            world_size=opts.world_size,\n",
    "                            rank=opts.rank)\n",
    "\n",
    "    # if put this function, the all processes block at all.\n",
    "    dist.barrier()\n",
    "    # convert print fn iif rank is zero\n",
    "    setup_for_distributed(opts.rank == 0)\n",
    "    print(opts)\n",
    "    \n",
    "    \n",
    "def setup_for_distributed(is_master):\n",
    "    \"\"\"\n",
    "    This function disables printing when not in master process\n",
    "    \"\"\"\n",
    "    import builtins as __builtin__\n",
    "    builtin_print = __builtin__.print\n",
    "\n",
    "    def print(*args, **kwargs):\n",
    "        force = kwargs.pop('force', False)\n",
    "        if is_master or force:\n",
    "            builtin_print(*args, **kwargs)\n",
    "\n",
    "    __builtin__.print = print"
   ]
  },
  {
   "cell_type": "code",
   "execution_count": 1,
   "metadata": {},
   "outputs": [
    {
     "name": "stderr",
     "output_type": "stream",
     "text": [
      "2024-06-03 18:03:39.965183: I tensorflow/core/util/port.cc:113] oneDNN custom operations are on. You may see slightly different numerical results due to floating-point round-off errors from different computation orders. To turn them off, set the environment variable `TF_ENABLE_ONEDNN_OPTS=0`.\n",
      "2024-06-03 18:03:40.027444: I tensorflow/core/platform/cpu_feature_guard.cc:210] This TensorFlow binary is optimized to use available CPU instructions in performance-critical operations.\n",
      "To enable the following instructions: AVX2 AVX_VNNI FMA, in other operations, rebuild TensorFlow with the appropriate compiler flags.\n",
      "2024-06-03 18:03:40.614702: W tensorflow/compiler/tf2tensorrt/utils/py_utils.cc:38] TF-TRT Warning: Could not find TensorRT\n"
     ]
    }
   ],
   "source": [
    "import torch\n",
    "import torch.distributed as dist\n",
    "import \n",
    "import params\n",
    "import prepare\n",
    "from transformers import TrainingArguments\n",
    "from model_loader import ModelLoader\n",
    "from initial_freezing import InitialFreezing\n",
    "from model_trainer import ModelTrainer"
   ]
  },
  {
   "cell_type": "code",
   "execution_count": 2,
   "metadata": {},
   "outputs": [
    {
     "name": "stdout",
     "output_type": "stream",
     "text": [
      "GPU is available. Using GPU: NVIDIA GeForce GTX 1050 Ti\n"
     ]
    }
   ],
   "source": [
    "# GPU 가용성 확인\n",
    "if torch.cuda.is_available():\n",
    "    device = torch.device(\"cuda\")\n",
    "    print(\"GPU is available. Using GPU:\", torch.cuda.get_device_name(0))\n",
    "else:\n",
    "    device = torch.device(\"cpu\")\n",
    "    print(\"GPU not available. Using CPU.\")"
   ]
  },
  {
   "cell_type": "code",
   "execution_count": 3,
   "metadata": {},
   "outputs": [
    {
     "data": {
      "text/plain": [
       "GPT2LMHeadModel(\n",
       "  (transformer): GPT2Model(\n",
       "    (wte): Embedding(51206, 768)\n",
       "    (wpe): Embedding(1024, 768)\n",
       "    (drop): Dropout(p=0.1, inplace=False)\n",
       "    (h): ModuleList(\n",
       "      (0-11): 12 x GPT2Block(\n",
       "        (ln_1): LayerNorm((768,), eps=1e-05, elementwise_affine=True)\n",
       "        (attn): GPT2Attention(\n",
       "          (c_attn): Conv1D()\n",
       "          (c_proj): Conv1D()\n",
       "          (attn_dropout): Dropout(p=0.1, inplace=False)\n",
       "          (resid_dropout): Dropout(p=0.1, inplace=False)\n",
       "        )\n",
       "        (ln_2): LayerNorm((768,), eps=1e-05, elementwise_affine=True)\n",
       "        (mlp): GPT2MLP(\n",
       "          (c_fc): Conv1D()\n",
       "          (c_proj): Conv1D()\n",
       "          (act): NewGELUActivation()\n",
       "          (dropout): Dropout(p=0.1, inplace=False)\n",
       "        )\n",
       "      )\n",
       "    )\n",
       "    (ln_f): LayerNorm((768,), eps=1e-05, elementwise_affine=True)\n",
       "  )\n",
       "  (lm_head): Linear(in_features=768, out_features=51206, bias=False)\n",
       ")"
      ]
     },
     "execution_count": 3,
     "metadata": {},
     "output_type": "execute_result"
    }
   ],
   "source": [
    "model_name = 'skt/kogpt2-base-v2'  # 사용할 모델 이름\n",
    "model_loader = ModelLoader(model_name)\n",
    "model, tokenizer = model_loader.load()\n",
    "model.to(device)  # 모델을 GPU로 이동"
   ]
  },
  {
   "cell_type": "code",
   "execution_count": 4,
   "metadata": {},
   "outputs": [
    {
     "name": "stderr",
     "output_type": "stream",
     "text": [
      "Asking to truncate to max_length but no maximum length is provided and the model has no predefined maximum length. Default to no truncation.\n"
     ]
    }
   ],
   "source": [
    "data_path = './data/test_raw_data.csv'  # 데이터 파일 경로\n",
    "df = prepare.load_data(data_path)\n",
    "train_df, test_df = prepare.split_data(df, test_size=0.2)  # 데이터를 학습 및 평가 데이터로 분리\n",
    "train_dataset = prepare.prepare_dataset(train_df, tokenizer)  # 학습 데이터셋 준비\n",
    "test_dataset = prepare.prepare_dataset(test_df, tokenizer)  # 평가 데이터셋 준비"
   ]
  },
  {
   "cell_type": "code",
   "execution_count": 5,
   "metadata": {},
   "outputs": [],
   "source": [
    "# 초기 프리징\n",
    "initial_freezing = InitialFreezing(model, num_unfreeze_layers=2)\n",
    "initial_freezing.apply()"
   ]
  },
  {
   "cell_type": "code",
   "execution_count": 6,
   "metadata": {},
   "outputs": [
    {
     "name": "stderr",
     "output_type": "stream",
     "text": [
      "/home/bok/.local/lib/python3.10/site-packages/transformers/training_args.py:1474: FutureWarning: `evaluation_strategy` is deprecated and will be removed in version 4.46 of 🤗 Transformers. Use `eval_strategy` instead\n",
      "  warnings.warn(\n"
     ]
    }
   ],
   "source": [
    "# 학습 인자 설정\n",
    "training_args = TrainingArguments(\n",
    "    output_dir=params.OUTPUT_DIR,  # 모델 출력 디렉토리\n",
    "    num_train_epochs=params.NUM_TRAIN_EPOCHS,  # 학습 에포크 수\n",
    "    per_device_train_batch_size=params.BATCH_SIZE,  # 학습 배치 크기\n",
    "    per_device_eval_batch_size=params.BATCH_SIZE,  # 평가 배치 크기\n",
    "    learning_rate=params.LEARNING_RATE,  # 학습률\n",
    "    logging_dir=params.LOGGING_DIR,  # 로깅 디렉토리\n",
    "    logging_steps=params.LOGGING_STEPS,  # 로깅 빈도\n",
    "    save_steps=params.SAVE_STEPS,  # 모델 저장 빈도\n",
    "    evaluation_strategy=params.EVALUATION_STRATEGY,  # 평가bb 전략\n",
    "    eval_steps=params.EVAL_STEPS,  # 평가 빈도\n",
    "    save_total_limit=params.SAVE_TOTAL_LIMIT,  # 저장할 체크포인트의 최대 수\n",
    "    load_best_model_at_end=True,  # EarlyStoppingCallback를 위한 설정\n",
    "    fp16=True,  # 혼합 정밀도 학습(Mixed Precision Training) 활성화 (필요 시)\n",
    "    gradient_accumulation_steps=16  # 기울기 누적(Gradient Accumulation) 활성화 (필요 시)\n",
    ")"
   ]
  },
  {
   "cell_type": "code",
   "execution_count": 7,
   "metadata": {},
   "outputs": [],
   "source": [
    "trainer = ModelTrainer(model, tokenizer)\n",
    "trainer.set_training_args(training_args)  # 학습 인자 설정"
   ]
  },
  {
   "cell_type": "code",
   "execution_count": 8,
   "metadata": {},
   "outputs": [
    {
     "data": {
      "text/html": [
       "\n",
       "    <div>\n",
       "      \n",
       "      <progress value='75' max='75' style='width:300px; height:20px; vertical-align: middle;'></progress>\n",
       "      [75/75 01:14, Epoch 3/3]\n",
       "    </div>\n",
       "    <table border=\"1\" class=\"dataframe\">\n",
       "  <thead>\n",
       " <tr style=\"text-align: left;\">\n",
       "      <th>Step</th>\n",
       "      <th>Training Loss</th>\n",
       "      <th>Validation Loss</th>\n",
       "    </tr>\n",
       "  </thead>\n",
       "  <tbody>\n",
       "  </tbody>\n",
       "</table><p>"
      ],
      "text/plain": [
       "<IPython.core.display.HTML object>"
      ]
     },
     "metadata": {},
     "output_type": "display_data"
    }
   ],
   "source": [
    "# 모델 학습\n",
    "trainer.train(train_dataset, test_dataset)\n",
    "trainer.save_model(params.OUTPUT_DIR)"
   ]
  },
  {
   "cell_type": "code",
   "execution_count": null,
   "metadata": {},
   "outputs": [],
   "source": [
    "# 시각화\n",
    "output_file = './gpt2_visualization/gpt2_model_v1_metrics.png'  # 저장할 파일 경로\n",
    "trainer.plot_metrics(output_file)"
   ]
  }
 ],
 "metadata": {
  "kernelspec": {
   "display_name": "Python 3",
   "language": "python",
   "name": "python3"
  },
  "language_info": {
   "codemirror_mode": {
    "name": "ipython",
    "version": 3
   },
   "file_extension": ".py",
   "mimetype": "text/x-python",
   "name": "python",
   "nbconvert_exporter": "python",
   "pygments_lexer": "ipython3",
   "version": "3.10.12"
  }
 },
 "nbformat": 4,
 "nbformat_minor": 2
}
